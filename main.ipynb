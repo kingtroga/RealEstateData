{
 "cells": [
  {
   "cell_type": "markdown",
   "metadata": {},
   "source": [
    "# The Project"
   ]
  },
  {
   "cell_type": "markdown",
   "metadata": {},
   "source": [
    "### Importing the necessary libraries"
   ]
  },
  {
   "cell_type": "code",
   "execution_count": 10,
   "metadata": {},
   "outputs": [],
   "source": [
    "import pandas as pd\n",
    "import requests\n",
    "from bs4 import BeautifulSoup"
   ]
  },
  {
   "cell_type": "markdown",
   "metadata": {},
   "source": [
    "### Writing the needed functions "
   ]
  },
  {
   "cell_type": "code",
   "execution_count": 12,
   "metadata": {},
   "outputs": [],
   "source": [
    "def getCorrectPinFormat(pin):\n",
    "    \"\"\"\n",
    "    INPUT: 124013000010000 : int\n",
    "    OUTPUT: '01-24-01-300-001-0000' : str\n",
    "    \"\"\"\n",
    "    pin = str(pin)\n",
    "    if len(pin) == 15:\n",
    "        returnString = (\n",
    "            '0' + pin[0] + '-'+\n",
    "            pin[1] + pin[2] + '-' +\n",
    "            pin[3] + pin[4] + '-' +\n",
    "            pin[5] + pin[6] + pin[7] + '-' +\n",
    "            pin[8] + pin[9] + pin[10] + '-' +\n",
    "            pin[11] + pin[12] + pin[13] + pin[14]\n",
    "             )\n",
    "        return returnString\n",
    "    else:\n",
    "        raise Exception(\"The PIN String is invaild\")"
   ]
  },
  {
   "cell_type": "code",
   "execution_count": 35,
   "metadata": {},
   "outputs": [],
   "source": [
    "def getPageContent(pin):\n",
    "    session = requests.Session()\n",
    "    \n",
    "    headers = {\n",
    "    'User-Agent':'Mozilla/5.0 (iPhone; CPU iPhone OS 7_1_2 like Mac OS X) AppleWebKit/537.51.2 (KHTML, like Gecko) Version/7.0 Mobile/11D257 Safari/9537.53',\n",
    "    'Accept':'text/html,application/xhtml+xml,application/xml;q=0.9,image/avif,image/webp,image/apng,*/*;q=0.8,application/signed-exchange;v=b3;q=0.9',\n",
    "    'Accept-Encoding': 'gzip, deflate, br',\n",
    "    'Cookie': 'mp_52e5e0805583e8a410f1ed50d8e0c049_mixpanel=%7B%22distinct_id%22%3A%20%22182a72924525c4-0d5f11dbe584a-26021d51-100200-182a7292453226%22%2C%22%24device_id%22%3A%20%22182a72924525c4-0d5f11dbe584a-26021d51-100200-182a7292453226%22%2C%22%24initial_referrer%22%3A%20%22%24direct%22%2C%22%24initial_referring_domain%22%3A%20%22%24direct%22%7D'\n",
    "    }\n",
    "    url = (\n",
    "    'https://willcountysoa.com/propertysearch/detail.aspx?Mpin=' \n",
    "    + pin)\n",
    "\n",
    "\n",
    "    response = session.get(url, headers=headers)\n",
    "    return response.text"
   ]
  },
  {
   "cell_type": "code",
   "execution_count": 29,
   "metadata": {},
   "outputs": [],
   "source": [
    "def getPageTable(pageContent):\n",
    "    table = pageContent.find('table', {'id':'FormView1_GridView2'})\n",
    "    return table\n",
    "    \n",
    "def checkTableHeaders(table):\n",
    "    try:\n",
    "        tableRows = table.find_all('tr')\n",
    "        tableHeaders = tableRows[0].find_all('th')\n",
    "    except AttributeError as e:\n",
    "        return (\"ERROR\", e)\n",
    "    \n",
    "    flag1 = tableHeaders[7].text.strip()\n",
    "    flag2 = tableHeaders[0].text.strip()\n",
    "    flag3 = tableHeaders[1].text.strip().replace(\" \", '')\n",
    "\n",
    "    condition1 = (flag1 == 'MarketValue')\n",
    "    condition2 = (flag2 == 'Year')\n",
    "    condition3 = (flag3 == 'AssessLevel')\n",
    "\n",
    "    if condition1 and condition2 and condition3:\n",
    "        return True\n",
    "    else:\n",
    "        return (\"Error\", False)\n",
    "\n",
    "def getValues(table):\n",
    "    try:\n",
    "        tableRows = table.find_all('tr')\n",
    "        secondRow = tableRows[1].find_all('td')\n",
    "    except AttributeError as e:\n",
    "        return False\n",
    "\n",
    "    marketValue = secondRow[7].text\n",
    "    year = secondRow[0].text\n",
    "    assessLevel = secondRow[1].text\n",
    "\n",
    "    condition = year == \"2022\"\n",
    "\n",
    "    if condition:\n",
    "        return (marketValue, year, assessLevel)\n",
    "\n",
    "    return None"
   ]
  },
  {
   "cell_type": "markdown",
   "metadata": {},
   "source": [
    "### Performing the task at hand"
   ]
  },
  {
   "cell_type": "code",
   "execution_count": null,
   "metadata": {},
   "outputs": [],
   "source": [
    "# load the csv file\n",
    "df = pd.read_csv('all_will_country_pins.csv')"
   ]
  },
  {
   "cell_type": "code",
   "execution_count": 37,
   "metadata": {},
   "outputs": [],
   "source": [
    "pins = []\n",
    "marketValues = []\n",
    "years = []\n",
    "accessValues = []\n",
    "isActive = []\n",
    "errors = []\n",
    "\n",
    "\n",
    "for pin in df['PIN']:\n",
    "    pin = getCorrectPinFormat(pin)\n",
    "    \n",
    "    if pin not in pins:\n",
    "        pins.append(pin)\n",
    "    else:\n",
    "        # data associated with pin has already \n",
    "        # been gotten go to next pin\n",
    "        continue\n",
    "\n",
    "    pageContent = getPageContent(pin)\n",
    "\n",
    "\n",
    "    if type(pageContent) is tuple:\n",
    "\n",
    "        # There was an error in handling this particular pin\n",
    "        errors.append(pageContent) # Save the error\n",
    "        marketValues.append(None)\n",
    "        years.append(None)\n",
    "        accessValues.append(None)\n",
    "        isActive.append(None)\n",
    "        continue #  and go to the next pin\n",
    "        \n",
    "\n",
    "    pageContent = BeautifulSoup(pageContent, 'html.parser')\n",
    "\n",
    "    \n",
    "    table = getPageTable(pageContent)\n",
    "    \n",
    "    if table is not None:\n",
    "        \n",
    "        if checkTableHeaders(table):\n",
    "            \n",
    "            if type(getValues(table)) == tuple:\n",
    "                marketValue, year, accessValue = getValues(table)\n",
    "                errors.append(\"NIL\")\n",
    "                marketValues.append(marketValue)\n",
    "                years.append(year)\n",
    "                accessValues.append(accessValue)\n",
    "                isActive.append(True)\n",
    "            else:\n",
    "                errors.append(\"Inactive Parcel\")\n",
    "                marketValues.append(\"NIL\")\n",
    "                years.append(\"NIL\")\n",
    "                accessValues.append(\"NIL\")\n",
    "                isActive.append(False)\n",
    "\n",
    "        else:\n",
    "            errors.append(\"The headers doesn't match our logic\")\n",
    "            marketValues.append(None)\n",
    "            years.append(None)\n",
    "            accessValues.append(None)\n",
    "            isActive.append(None)\n",
    "\n",
    "\n",
    "    else:\n",
    "        errors.append(\"Inactive Parcel\")\n",
    "        marketValues.append(\"NIL\")\n",
    "        years.append(\"NIL\")\n",
    "        accessValues.append(\"NIL\")\n",
    "        isActive.append(False)"
   ]
  },
  {
   "cell_type": "markdown",
   "metadata": {},
   "source": [
    "### At this point all the data has been gotten \n",
    "### Now it's time to save the data"
   ]
  },
  {
   "cell_type": "code",
   "execution_count": 38,
   "metadata": {},
   "outputs": [],
   "source": [
    "data = {\n",
    "    'Pins': pins,\n",
    "    'Market Value': marketValues,\n",
    "    'Year': years,\n",
    "    'Access Value': accessValues,\n",
    "    'IsActive': isActive,\n",
    "    'Error': errors\n",
    "}"
   ]
  },
  {
   "cell_type": "code",
   "execution_count": null,
   "metadata": {},
   "outputs": [],
   "source": [
    "df2 = pd.DataFrame(data)\n",
    "df2"
   ]
  },
  {
   "cell_type": "markdown",
   "metadata": {},
   "source": [
    "### Save the data to a CSV file"
   ]
  },
  {
   "cell_type": "code",
   "execution_count": 42,
   "metadata": {},
   "outputs": [
    {
     "name": "stdout",
     "output_type": "stream",
     "text": [
      "You probably have this CSV file open. Close it and rerun this Cell\n"
     ]
    }
   ],
   "source": [
    "try:\n",
    "    df2.to_csv(\"realEstateDataResult.csv\", index=False)\n",
    "except PermissionError:\n",
    "    print(\"You probably have this CSV file open. Close it and rerun this Cell\")"
   ]
  },
  {
   "cell_type": "markdown",
   "metadata": {},
   "source": [
    "# Thanks for your time 👍"
   ]
  }
 ],
 "metadata": {
  "kernelspec": {
   "display_name": "Python 3.10.5 64-bit",
   "language": "python",
   "name": "python3"
  },
  "language_info": {
   "codemirror_mode": {
    "name": "ipython",
    "version": 3
   },
   "file_extension": ".py",
   "mimetype": "text/x-python",
   "name": "python",
   "nbconvert_exporter": "python",
   "pygments_lexer": "ipython3",
   "version": "3.10.5"
  },
  "orig_nbformat": 4,
  "vscode": {
   "interpreter": {
    "hash": "369f2c481f4da34e4445cda3fffd2e751bd1c4d706f27375911949ba6bb62e1c"
   }
  }
 },
 "nbformat": 4,
 "nbformat_minor": 2
}
